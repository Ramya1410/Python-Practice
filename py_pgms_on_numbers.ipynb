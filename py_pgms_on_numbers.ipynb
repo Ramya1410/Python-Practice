{
  "nbformat": 4,
  "nbformat_minor": 0,
  "metadata": {
    "colab": {
      "provenance": [],
      "collapsed_sections": [],
      "authorship_tag": "ABX9TyMppO3wrQHfanznn3e7ES36",
      "include_colab_link": true
    },
    "kernelspec": {
      "name": "python3",
      "display_name": "Python 3"
    },
    "language_info": {
      "name": "python"
    }
  },
  "cells": [
    {
      "cell_type": "markdown",
      "metadata": {
        "id": "view-in-github",
        "colab_type": "text"
      },
      "source": [
        "<a href=\"https://colab.research.google.com/github/Ramya1410/Python-Practice/blob/main/py_pgms_on_numbers.ipynb\" target=\"_parent\"><img src=\"https://colab.research.google.com/assets/colab-badge.svg\" alt=\"Open In Colab\"/></a>"
      ]
    },
    {
      "cell_type": "code",
      "execution_count": null,
      "metadata": {
        "colab": {
          "base_uri": "https://localhost:8080/"
        },
        "id": "vJn-RincnrLI",
        "outputId": "dc0d91ed-4722-44cf-ac55-33afa8a7dd9b"
      },
      "outputs": [
        {
          "output_type": "stream",
          "name": "stdout",
          "text": [
            "enter upper limit20\n",
            "2\n",
            "3\n",
            "5\n",
            "7\n",
            "11\n",
            "13\n",
            "17\n",
            "19\n"
          ]
        }
      ],
      "source": [
        "ul= int(input('enter upper limit'))\n",
        "for a in range(2,ul+1):\n",
        "  k=0\n",
        "  for i in range(2,a//2+1):\n",
        "    if(a%i==0):\n",
        "      k=k+1\n",
        "  if(k<=0):\n",
        "    print(a)\n"
      ]
    },
    {
      "cell_type": "code",
      "source": [
        "n = int(input('enter a number'))\n",
        "k=0\n",
        "for i in range(2,n//2+1):\n",
        "  if(n%i==0):\n",
        "    k=k+1\n",
        "if(k<=0):\n",
        "  print('prime')\n",
        "else:\n",
        "  print('not prime')\n"
      ],
      "metadata": {
        "colab": {
          "base_uri": "https://localhost:8080/"
        },
        "id": "ftyuZT2Rqw8T",
        "outputId": "8f69bd46-3cb0-4201-e827-284fe93ea0b0"
      },
      "execution_count": null,
      "outputs": [
        {
          "output_type": "stream",
          "name": "stdout",
          "text": [
            "enter a number47\n",
            "prime\n"
          ]
        }
      ]
    },
    {
      "cell_type": "code",
      "source": [
        "def isprime(n,div=None):\n",
        "  if div == None:\n",
        "    div = n-1\n",
        "  while(div>=2):\n",
        "    if(n%div==0):\n",
        "        print('not prime')\n",
        "        return False\n",
        "    else:\n",
        "        return isprime(n, div-1)\n",
        "  else:\n",
        "      print('prime')\n",
        "      return True\n",
        "a = int(input('enter a no '))\n",
        "isprime(a)"
      ],
      "metadata": {
        "colab": {
          "base_uri": "https://localhost:8080/"
        },
        "id": "v2_m8kX3roui",
        "outputId": "a30da288-facb-4787-cc13-dc6dfb8fae40"
      },
      "execution_count": null,
      "outputs": [
        {
          "output_type": "stream",
          "name": "stdout",
          "text": [
            "enter a no 54\n",
            "not prime\n"
          ]
        },
        {
          "output_type": "execute_result",
          "data": {
            "text/plain": [
              "False"
            ]
          },
          "metadata": {},
          "execution_count": 10
        }
      ]
    },
    {
      "cell_type": "code",
      "source": [
        "n = int(input('enter a number'))\n",
        "l=[]\n",
        "for i in range(1,n//2+1):\n",
        "  if(n%i==0):\n",
        "    l.append(i)\n",
        "print(l)\n",
        "if sum(l)==n:\n",
        "  print('perfect number')\n",
        "else:\n",
        "  print('no')"
      ],
      "metadata": {
        "colab": {
          "base_uri": "https://localhost:8080/"
        },
        "id": "LStejaN1vpGv",
        "outputId": "778b3b01-47c5-4500-8b71-af04c02060ab"
      },
      "execution_count": null,
      "outputs": [
        {
          "output_type": "stream",
          "name": "stdout",
          "text": [
            "enter a number496\n",
            "[1, 2, 4, 8, 16, 31, 62, 124, 248]\n",
            "perfect number\n"
          ]
        }
      ]
    },
    {
      "cell_type": "code",
      "source": [
        "n= input('enter a number ')\n",
        "sum=0\n",
        "for i in n:\n",
        "  i = int(i)\n",
        "  sum=sum+i**3\n",
        "if sum == n:\n",
        "  print('yes')\n",
        "else:\n",
        "  print('no')"
      ],
      "metadata": {
        "colab": {
          "base_uri": "https://localhost:8080/"
        },
        "id": "AiYCbxABwoSo",
        "outputId": "00fa4b17-d620-4686-b292-04b30e7c5566"
      },
      "execution_count": null,
      "outputs": [
        {
          "output_type": "stream",
          "name": "stdout",
          "text": [
            "enter a number371\n",
            "27\n",
            "no\n"
          ]
        }
      ]
    },
    {
      "cell_type": "code",
      "source": [
        "n = int(input('enter a number'))\n",
        "sum=0\n",
        "for i in range(1,n+1):\n",
        "  sum+=i\n",
        "print(sum)"
      ],
      "metadata": {
        "colab": {
          "base_uri": "https://localhost:8080/"
        },
        "id": "6gty2gatzPyR",
        "outputId": "4a62d451-7d9b-4ada-d1ed-2798aa299c58"
      },
      "execution_count": null,
      "outputs": [
        {
          "output_type": "stream",
          "name": "stdout",
          "text": [
            "enter a number18\n",
            "171\n"
          ]
        }
      ]
    },
    {
      "cell_type": "code",
      "source": [
        "n = int(input('enter a number'))\n",
        "sum=0 \n",
        "temp = n\n",
        "while(n):\n",
        "  i=1\n",
        "  f=1\n",
        "  r=n%10\n",
        "  while(i<=r):\n",
        "    f=f*i\n",
        "    i=i+1\n",
        "  sum=sum+f\n",
        "  n=n//10\n",
        "if(sum==temp):\n",
        "  print('strong')\n",
        "else:\n",
        "  print('not strong')\n"
      ],
      "metadata": {
        "colab": {
          "base_uri": "https://localhost:8080/"
        },
        "id": "-xRCnwLA5hV0",
        "outputId": "3b50fb5c-25b4-4766-8c26-df14a8913454"
      },
      "execution_count": null,
      "outputs": [
        {
          "output_type": "stream",
          "name": "stdout",
          "text": [
            "enter a number145\n",
            "strong\n"
          ]
        }
      ]
    },
    {
      "cell_type": "code",
      "source": [
        "def printno(upper):\n",
        "    if(upper>0):\n",
        "        printno(upper-1)\n",
        "        print(upper)\n",
        "upper=int(input(\"Enter upper limit: \"))\n",
        "printno(upper)"
      ],
      "metadata": {
        "colab": {
          "base_uri": "https://localhost:8080/"
        },
        "id": "Wvr4ceqrB9Q1",
        "outputId": "e7b25c47-dfde-49b5-eb1f-cc9ef4ebfaac"
      },
      "execution_count": null,
      "outputs": [
        {
          "output_type": "stream",
          "name": "stdout",
          "text": [
            "Enter upper limit: 14\n",
            "1\n",
            "2\n",
            "3\n",
            "4\n",
            "5\n",
            "6\n",
            "7\n",
            "8\n",
            "9\n",
            "10\n",
            "11\n",
            "12\n",
            "13\n",
            "14\n"
          ]
        }
      ]
    },
    {
      "cell_type": "markdown",
      "source": [
        "numpy 10 - 20 basics\n"
      ],
      "metadata": {
        "id": "AbOrPZ_z9CXr"
      }
    },
    {
      "cell_type": "code",
      "source": [
        "import numpy as np\n",
        "l1 = [int(x) for x in input('enter numbers').split()]\n",
        "arr = np.array(l1)\n",
        "print(arr)\n",
        "arr = arr.astype(float)\n",
        "print(arr)"
      ],
      "metadata": {
        "colab": {
          "base_uri": "https://localhost:8080/"
        },
        "id": "z--ks2uu9GUw",
        "outputId": "312e0087-95d6-4cb8-e6d4-167ca366307c"
      },
      "execution_count": null,
      "outputs": [
        {
          "output_type": "stream",
          "name": "stdout",
          "text": [
            "enter numbers1 2 4 5 6 7 8 9\n",
            "[1 2 4 5 6 7 8 9]\n",
            "[1. 2. 4. 5. 6. 7. 8. 9.]\n"
          ]
        }
      ]
    },
    {
      "cell_type": "code",
      "source": [
        "l1 = np.arange(0,101,4)\n",
        "print(l1)"
      ],
      "metadata": {
        "colab": {
          "base_uri": "https://localhost:8080/"
        },
        "id": "XQh5E0Ag906D",
        "outputId": "c0338ef8-a175-4ca4-e358-e27afda4a732"
      },
      "execution_count": null,
      "outputs": [
        {
          "output_type": "stream",
          "name": "stdout",
          "text": [
            "[  0   4   8  12  16  20  24  28  32  36  40  44  48  52  56  60  64  68\n",
            "  72  76  80  84  88  92  96 100]\n"
          ]
        }
      ]
    },
    {
      "cell_type": "code",
      "source": [
        "l1 = [int(x) for x in input('enter numbers').split()]\n",
        "l2 = [int(x) for x in input('enter numbers').split()]\n",
        "arr1 = np.array(l1)\n",
        "arr2 = np.array(l2)\n",
        "print(arr1)\n",
        "print(arr2)\n",
        "print(np.where(arr1==arr2))\n"
      ],
      "metadata": {
        "colab": {
          "base_uri": "https://localhost:8080/"
        },
        "id": "vzYGUjKO-A6v",
        "outputId": "c94f0f92-840d-4858-dda0-fd7802243887"
      },
      "execution_count": null,
      "outputs": [
        {
          "output_type": "stream",
          "name": "stdout",
          "text": [
            "enter numbers1 2 3 5 4\n",
            "enter numbers2 1 3 5 4\n",
            "[1 2 3 5 4]\n",
            "[2 1 3 5 4]\n",
            "(array([2, 3, 4]),)\n"
          ]
        }
      ]
    },
    {
      "cell_type": "code",
      "source": [
        "n = np.linspace(0,100,6)\n",
        "print(n)"
      ],
      "metadata": {
        "colab": {
          "base_uri": "https://localhost:8080/"
        },
        "id": "Tbtz7M1y-tin",
        "outputId": "e20b5de2-2f55-47c8-f4a6-9636ca99d53d"
      },
      "execution_count": null,
      "outputs": [
        {
          "output_type": "stream",
          "name": "stdout",
          "text": [
            "[  0.  20.  40.  60.  80. 100.]\n"
          ]
        }
      ]
    },
    {
      "cell_type": "code",
      "source": [
        "n = np.full((3,3),5)\n",
        "print(n)"
      ],
      "metadata": {
        "colab": {
          "base_uri": "https://localhost:8080/"
        },
        "id": "S222bIUbBOip",
        "outputId": "6e0fa693-3a17-494a-82cc-c814871d1406"
      },
      "execution_count": null,
      "outputs": [
        {
          "output_type": "stream",
          "name": "stdout",
          "text": [
            "[[5 5 5]\n",
            " [5 5 5]\n",
            " [5 5 5]]\n"
          ]
        }
      ]
    },
    {
      "cell_type": "code",
      "source": [
        "a = np.ones((3,4))\n",
        "a*3\n",
        "print(a)"
      ],
      "metadata": {
        "colab": {
          "base_uri": "https://localhost:8080/"
        },
        "id": "eRxs1fI_CJ2Z",
        "outputId": "3ae009fc-79b8-44bc-fea2-eb31ee6db34d"
      },
      "execution_count": null,
      "outputs": [
        {
          "output_type": "stream",
          "name": "stdout",
          "text": [
            "[[1. 1. 1. 1.]\n",
            " [1. 1. 1. 1.]\n",
            " [1. 1. 1. 1.]]\n"
          ]
        }
      ]
    },
    {
      "cell_type": "code",
      "source": [
        "a = np.array([[1,2,3],\n",
        "             [4,5,6]])\n",
        "o = np.tile(a,5)\n",
        "print(o)"
      ],
      "metadata": {
        "colab": {
          "base_uri": "https://localhost:8080/"
        },
        "id": "hOlSKazADGk4",
        "outputId": "85908edf-da29-4c6d-d76f-4c21d4e28116"
      },
      "execution_count": null,
      "outputs": [
        {
          "output_type": "stream",
          "name": "stdout",
          "text": [
            "[[1 2 3 1 2 3 1 2 3 1 2 3 1 2 3]\n",
            " [4 5 6 4 5 6 4 5 6 4 5 6 4 5 6]]\n"
          ]
        }
      ]
    },
    {
      "cell_type": "code",
      "source": [
        "np.random.seed(123)\n",
        "a = np.random.randint(0,16,size = (5,4))\n",
        "print(a)"
      ],
      "metadata": {
        "colab": {
          "base_uri": "https://localhost:8080/"
        },
        "id": "ix15z9J9EH_U",
        "outputId": "c1373354-c57d-463b-d211-6ebc144d698e"
      },
      "execution_count": null,
      "outputs": [
        {
          "output_type": "stream",
          "name": "stdout",
          "text": [
            "[[14 13 14  2]\n",
            " [12  2  6  1]\n",
            " [ 3 10 11  9]\n",
            " [ 6  1  0  1]\n",
            " [14 15  9  0]]\n"
          ]
        }
      ]
    },
    {
      "cell_type": "code",
      "source": [
        "arr = np.array([[1,2,3],[4,5,6],[7,8,9]])\n",
        "arrt = arr.T\n",
        "print(arrt)"
      ],
      "metadata": {
        "colab": {
          "base_uri": "https://localhost:8080/"
        },
        "id": "PIft1VLvEUMu",
        "outputId": "ee1a77d7-4f3a-4721-b988-2129e5bc0733"
      },
      "execution_count": null,
      "outputs": [
        {
          "output_type": "stream",
          "name": "stdout",
          "text": [
            "[[1 4 7]\n",
            " [2 5 8]\n",
            " [3 6 9]]\n"
          ]
        }
      ]
    },
    {
      "cell_type": "code",
      "source": [
        "n = int(input('enter a number '))\n",
        "l=[]\n",
        "for i in range(1,n+1):\n",
        "  if(n%i==0):\n",
        "    l.append(i)\n",
        "print(l)\n",
        "l1=[]\n",
        "for a in l:\n",
        "  for b in range(2,max(l)):\n",
        "    if(a%b!=0):\n",
        "      l1.append(a)\n",
        "print(l1)"
      ],
      "metadata": {
        "colab": {
          "base_uri": "https://localhost:8080/"
        },
        "id": "HT5aSnlMEw-M",
        "outputId": "7c901e5e-a976-4717-a75a-8240b4af7ed4"
      },
      "execution_count": null,
      "outputs": [
        {
          "output_type": "stream",
          "name": "stdout",
          "text": [
            "enter a number 20\n",
            "[1, 2, 4, 5, 10, 20]\n",
            "[1, 1, 1, 1, 1, 1, 1, 1, 1, 1, 1, 1, 1, 1, 1, 1, 1, 1, 2, 2, 2, 2, 2, 2, 2, 2, 2, 2, 2, 2, 2, 2, 2, 2, 2, 4, 4, 4, 4, 4, 4, 4, 4, 4, 4, 4, 4, 4, 4, 4, 4, 5, 5, 5, 5, 5, 5, 5, 5, 5, 5, 5, 5, 5, 5, 5, 5, 5, 10, 10, 10, 10, 10, 10, 10, 10, 10, 10, 10, 10, 10, 10, 10, 20, 20, 20, 20, 20, 20, 20, 20, 20, 20, 20, 20, 20, 20]\n"
          ]
        }
      ]
    },
    {
      "cell_type": "code",
      "source": [
        "n1 = int(input('enter a number '))\n",
        "n2 = int(input('enter a number '))\n",
        "l1=[]\n",
        "l2=[]\n",
        "for i in range(1,n1//2+1):\n",
        "  if(n1%i==0):\n",
        "    l1.append(i)\n",
        "for i in range(1,n2//2+1):\n",
        "  if(n2%i==0):\n",
        "    l2.append(i)\n",
        "if(sum(l1)==n2) and (sum(l2)==n1):\n",
        "  print('amicable')\n",
        "else:\n",
        "  print('not')\n",
        "\n"
      ],
      "metadata": {
        "colab": {
          "base_uri": "https://localhost:8080/"
        },
        "id": "a_6GrUK94L0f",
        "outputId": "1a740501-1984-45ad-9d2f-5869e1924942"
      },
      "execution_count": null,
      "outputs": [
        {
          "output_type": "stream",
          "name": "stdout",
          "text": [
            "enter a number 220\n",
            "enter a number 284\n",
            "amicable\n"
          ]
        }
      ]
    },
    {
      "cell_type": "code",
      "source": [
        "n = int(input('enter a number '))\n",
        "count = 0\n",
        "k=0\n",
        "while(n>1):\n",
        "  if(n%2==0):\n",
        "    count+=1\n",
        "    n=n//2\n",
        "  else:\n",
        "    n=1\n",
        "    k=1   \n",
        "if(count>0) and (k!=1):\n",
        "  print('yes, power of two. Power: ',count)\n",
        "elif(count<0) or (k==1):\n",
        "  print('not')"
      ],
      "metadata": {
        "colab": {
          "base_uri": "https://localhost:8080/"
        },
        "id": "kAfQUMG47zD1",
        "outputId": "a7b3c205-6ad6-4506-e970-c031929c5a1a"
      },
      "execution_count": null,
      "outputs": [
        {
          "output_type": "stream",
          "name": "stdout",
          "text": [
            "enter a number 20\n",
            "not\n"
          ]
        }
      ]
    },
    {
      "cell_type": "code",
      "source": [
        "n = int(input('enter a number for base '))\n",
        "m = int(input('enter exp value'))\n",
        "pow = n**m\n",
        "print(pow)\n"
      ],
      "metadata": {
        "colab": {
          "base_uri": "https://localhost:8080/"
        },
        "id": "n0YB64R8CfRm",
        "outputId": "e82e08bb-ac0e-4d3f-966e-be7c59f0d732"
      },
      "execution_count": null,
      "outputs": [
        {
          "output_type": "stream",
          "name": "stdout",
          "text": [
            "enter a number for base 5\n",
            "enter exp value3\n",
            "125\n"
          ]
        }
      ]
    },
    {
      "cell_type": "code",
      "source": [
        "def product(a,b):\n",
        "  if(a<b):\n",
        "    return product(b,a)\n",
        "  elif(b!=0):\n",
        "    return (a+product(a,b-1))\n",
        "  else:\n",
        "    return 0\n",
        "a = int(input('enter a number '))\n",
        "b = int(input('enter a number '))\n",
        "product(a,b)\n"
      ],
      "metadata": {
        "colab": {
          "base_uri": "https://localhost:8080/"
        },
        "id": "Rmz8J2NfDlju",
        "outputId": "59b87602-0ca4-4e2d-f29c-79d48f023327"
      },
      "execution_count": null,
      "outputs": [
        {
          "name": "stdout",
          "output_type": "stream",
          "text": [
            "enter a number 10\n",
            "enter a number 12\n"
          ]
        },
        {
          "output_type": "execute_result",
          "data": {
            "text/plain": [
              "120"
            ]
          },
          "metadata": {},
          "execution_count": 52
        }
      ]
    },
    {
      "cell_type": "code",
      "source": [
        "ll = int(input('enter lower limit'))\n",
        "ul = int(input('enter upper limit'))\n",
        "n = [x for x in range(ll,ul+1) if(int(x**0.5))**2==x and sum(list(map(int,str(x))))<10]\n",
        "print(n)"
      ],
      "metadata": {
        "colab": {
          "base_uri": "https://localhost:8080/"
        },
        "id": "YOQF_KYhyrnp",
        "outputId": "60e3b99f-7390-4d5d-b053-2779dd4514a2"
      },
      "execution_count": null,
      "outputs": [
        {
          "output_type": "stream",
          "name": "stdout",
          "text": [
            "enter lower limit1\n",
            "enter upper limit40\n",
            "[1, 4, 9, 16, 25, 36]\n"
          ]
        }
      ]
    },
    {
      "cell_type": "code",
      "source": [
        "a = int(input('enter a number 1 '))\n",
        "b = int(input('enter a number 2 '))\n",
        "c = int(input('enter a number 3 '))\n",
        "d=[]\n",
        "d.append(a)\n",
        "d.append(b)\n",
        "d.append(c)\n",
        "for i in range(0,3):\n",
        "  for j in range(0,3):\n",
        "    for k in range(0,3):\n",
        "      if((i!=j)&(j!=k)&(k!=i)):\n",
        "        print(d[i],d[j],d[k])\n"
      ],
      "metadata": {
        "colab": {
          "base_uri": "https://localhost:8080/"
        },
        "id": "7V3ObfSa8Dwi",
        "outputId": "629a78f4-f2c3-4e99-acb9-6ca9b19ab234"
      },
      "execution_count": null,
      "outputs": [
        {
          "output_type": "stream",
          "name": "stdout",
          "text": [
            "enter a number 1 4 \n",
            "enter a number 2 5\n",
            "enter a number 3 6\n",
            "4 5 6\n",
            "4 6 5\n",
            "5 4 6\n",
            "5 6 4\n",
            "6 4 5\n",
            "6 5 4\n"
          ]
        }
      ]
    }
  ]
}