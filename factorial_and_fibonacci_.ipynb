{
  "nbformat": 4,
  "nbformat_minor": 0,
  "metadata": {
    "colab": {
      "provenance": [],
      "authorship_tag": "ABX9TyOU4agY/qe7yD13dcMmS1F9",
      "include_colab_link": true
    },
    "kernelspec": {
      "name": "python3",
      "display_name": "Python 3"
    },
    "language_info": {
      "name": "python"
    }
  },
  "cells": [
    {
      "cell_type": "markdown",
      "metadata": {
        "id": "view-in-github",
        "colab_type": "text"
      },
      "source": [
        "<a href=\"https://colab.research.google.com/github/Ramya1410/Python-Practice/blob/main/factorial_and_fibonacci_.ipynb\" target=\"_parent\"><img src=\"https://colab.research.google.com/assets/colab-badge.svg\" alt=\"Open In Colab\"/></a>"
      ]
    },
    {
      "cell_type": "code",
      "execution_count": null,
      "metadata": {
        "colab": {
          "base_uri": "https://localhost:8080/"
        },
        "id": "OnceJU4kH6NY",
        "outputId": "e2626f7d-f0f0-403d-a50b-ebf414bc366f"
      },
      "outputs": [
        {
          "output_type": "stream",
          "name": "stdout",
          "text": [
            "enter a number5\n",
            "[0, 1, 1, 2, 3, 5, 8, 13, 21, 34, 55, 89, 144, 233, 377, 610, 987, 1597, 2584, 4181]\n",
            "0 1 1 2 3 "
          ]
        }
      ],
      "source": [
        " def fibo(n):\n",
        "    l=[0,1]\n",
        "    for x in range(2,20):\n",
        "      new = l[x-1]+l[x-2]\n",
        "      l.append(new)\n",
        "    print(l)\n",
        "    for i in range(0,n):\n",
        "      print(l[i],end=' ')\n",
        "a = int(input('enter a number'))\n",
        "fibo(a)\n",
        "\n"
      ]
    },
    {
      "cell_type": "code",
      "source": [
        "def fibonacci(n):\n",
        "    if(n <= 1):\n",
        "        return n\n",
        "    else:\n",
        "        return(fibonacci(n-1) + fibonacci(n-2))\n",
        "n = int(input(\"Enter number of terms:\"))\n",
        "print(\"Fibonacci sequence:\")\n",
        "for i in range(n):\n",
        "    print(fibonacci(i))"
      ],
      "metadata": {
        "colab": {
          "base_uri": "https://localhost:8080/"
        },
        "id": "Pc3JF0MHYGFf",
        "outputId": "5a6e93df-fbc0-4873-91de-2546ed6be00b"
      },
      "execution_count": null,
      "outputs": [
        {
          "output_type": "stream",
          "name": "stdout",
          "text": [
            "Enter number of terms:5\n",
            "Fibonacci sequence:\n",
            "0\n",
            "1\n",
            "1\n",
            "2\n",
            "3\n"
          ]
        }
      ]
    },
    {
      "cell_type": "code",
      "source": [
        "a = int(input('enter first term'))\n",
        "b = int(input('enter second term'))\n",
        "n = int(input('enter num of term'))\n",
        "print(a,b,end=' ')\n",
        "while(n-2):\n",
        "  c=a+b\n",
        "  a=b\n",
        "  b=c\n",
        "  print(c,end=' ')\n",
        "  n-=1"
      ],
      "metadata": {
        "colab": {
          "base_uri": "https://localhost:8080/"
        },
        "id": "1tyJrsItZRsh",
        "outputId": "23598588-08e0-4074-b3ee-b48e8272b93f"
      },
      "execution_count": null,
      "outputs": [
        {
          "output_type": "stream",
          "name": "stdout",
          "text": [
            "enter first term0\n",
            "enter second term1\n",
            "enter num of term5\n",
            "0 1 1 2 3 "
          ]
        }
      ]
    },
    {
      "cell_type": "code",
      "source": [
        "def fact(n):\n",
        "  if n<=1:\n",
        "    return 1\n",
        "  else:\n",
        "    return(n * fact(n-1))\n",
        "a = int(input('enter a number'))\n",
        "print(fact(a))"
      ],
      "metadata": {
        "colab": {
          "base_uri": "https://localhost:8080/"
        },
        "id": "Xqog6mYXaMj7",
        "outputId": "ff610a9f-360f-4615-d781-5098273aa68b"
      },
      "execution_count": null,
      "outputs": [
        {
          "output_type": "stream",
          "name": "stdout",
          "text": [
            "enter a number5\n",
            "120\n"
          ]
        }
      ]
    },
    {
      "cell_type": "code",
      "source": [
        "a = int(input('enter a number'))\n",
        "fact = 1\n",
        "while(a>0):\n",
        "  fact = fact*a\n",
        "  a=a-1 \n",
        "print(fact)\n",
        "\n",
        "  \n",
        "\n",
        "\n"
      ],
      "metadata": {
        "colab": {
          "base_uri": "https://localhost:8080/"
        },
        "id": "PlKeIPL6b5X5",
        "outputId": "10624d40-5c88-4993-96a3-800d34c849c3"
      },
      "execution_count": null,
      "outputs": [
        {
          "output_type": "stream",
          "name": "stdout",
          "text": [
            "enter a number5\n",
            "120\n"
          ]
        }
      ]
    },
    {
      "cell_type": "code",
      "source": [
        "n = int(input('enter binary number'))\n",
        "for i in n:\n",
        "  if i==0:\n",
        "    print(i)\n",
        "  else:\n",
        "    print((i)^(i-1))"
      ],
      "metadata": {
        "id": "MClZbsgPDSsl",
        "colab": {
          "base_uri": "https://localhost:8080/",
          "height": 252
        },
        "outputId": "15cc44c8-fa9d-44c2-f135-feb7a7b8ad18"
      },
      "execution_count": null,
      "outputs": [
        {
          "name": "stdout",
          "output_type": "stream",
          "text": [
            "enter binary number01101\n"
          ]
        },
        {
          "output_type": "error",
          "ename": "TypeError",
          "evalue": "ignored",
          "traceback": [
            "\u001b[0;31m---------------------------------------------------------------------------\u001b[0m",
            "\u001b[0;31mTypeError\u001b[0m                                 Traceback (most recent call last)",
            "\u001b[0;32m<ipython-input-4-57ec30327d40>\u001b[0m in \u001b[0;36m<module>\u001b[0;34m\u001b[0m\n\u001b[1;32m      1\u001b[0m \u001b[0mn\u001b[0m \u001b[0;34m=\u001b[0m \u001b[0mint\u001b[0m\u001b[0;34m(\u001b[0m\u001b[0minput\u001b[0m\u001b[0;34m(\u001b[0m\u001b[0;34m'enter binary number'\u001b[0m\u001b[0;34m)\u001b[0m\u001b[0;34m)\u001b[0m\u001b[0;34m\u001b[0m\u001b[0;34m\u001b[0m\u001b[0m\n\u001b[0;32m----> 2\u001b[0;31m \u001b[0;32mfor\u001b[0m \u001b[0mi\u001b[0m \u001b[0;32min\u001b[0m \u001b[0mn\u001b[0m\u001b[0;34m:\u001b[0m\u001b[0;34m\u001b[0m\u001b[0;34m\u001b[0m\u001b[0m\n\u001b[0m\u001b[1;32m      3\u001b[0m   \u001b[0;32mif\u001b[0m \u001b[0mi\u001b[0m\u001b[0;34m==\u001b[0m\u001b[0;36m0\u001b[0m\u001b[0;34m:\u001b[0m\u001b[0;34m\u001b[0m\u001b[0;34m\u001b[0m\u001b[0m\n\u001b[1;32m      4\u001b[0m     \u001b[0mprint\u001b[0m\u001b[0;34m(\u001b[0m\u001b[0mi\u001b[0m\u001b[0;34m)\u001b[0m\u001b[0;34m\u001b[0m\u001b[0;34m\u001b[0m\u001b[0m\n\u001b[1;32m      5\u001b[0m   \u001b[0;32melse\u001b[0m\u001b[0;34m:\u001b[0m\u001b[0;34m\u001b[0m\u001b[0;34m\u001b[0m\u001b[0m\n",
            "\u001b[0;31mTypeError\u001b[0m: 'int' object is not iterable"
          ]
        }
      ]
    },
    {
      "cell_type": "code",
      "source": [
        "def bintogray(b):\n",
        "  b = int(b,2)\n",
        "  b^=(b>>1)\n",
        "  return bin(b)[2:]\n",
        "n = input('enter binary num')\n",
        "g = bintogray(n)\n",
        "print(g)\n"
      ],
      "metadata": {
        "colab": {
          "base_uri": "https://localhost:8080/"
        },
        "id": "PVqt7m2vMvyK",
        "outputId": "3d685e50-c163-4ba5-908b-585d6d5a639a"
      },
      "execution_count": null,
      "outputs": [
        {
          "output_type": "stream",
          "name": "stdout",
          "text": [
            "enter bunary num1001\n",
            "1101\n"
          ]
        }
      ]
    },
    {
      "cell_type": "code",
      "source": [
        "def graytobin(n):\n",
        "  n = int(n,2)\n",
        "  mask = n\n",
        "  while(mask!=0):\n",
        "    mask>>=1\n",
        "    n^=mask\n",
        "  return bin(n)[2:]\n",
        "g = input('enter gray code')\n",
        "b=graytobin(g)\n",
        "print(b)"
      ],
      "metadata": {
        "colab": {
          "base_uri": "https://localhost:8080/"
        },
        "id": "NrV-kg-QPoMb",
        "outputId": "4ca28024-e3f0-46bf-a199-02169f2bb351"
      },
      "execution_count": null,
      "outputs": [
        {
          "output_type": "stream",
          "name": "stdout",
          "text": [
            "enter gray code1101\n",
            "1001\n"
          ]
        }
      ]
    },
    {
      "cell_type": "code",
      "source": [
        "temp = float(input('enter temp value'))\n",
        "fah = (temp*1.8)+32\n",
        "print('fahrenheit equivalent is ',fah)"
      ],
      "metadata": {
        "colab": {
          "base_uri": "https://localhost:8080/"
        },
        "id": "G7t9VeIsVtlU",
        "outputId": "7ea3e4c8-0bdc-4150-d38b-e277089c86b2"
      },
      "execution_count": null,
      "outputs": [
        {
          "output_type": "stream",
          "name": "stdout",
          "text": [
            "enter temp value48\n",
            "fahrenheit equivalent is  118.4\n"
          ]
        }
      ]
    }
  ]
}