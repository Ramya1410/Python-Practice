{
  "nbformat": 4,
  "nbformat_minor": 0,
  "metadata": {
    "colab": {
      "provenance": [],
      "collapsed_sections": [],
      "authorship_tag": "ABX9TyMHfSV/PMtz8tPXyP3c1VH9",
      "include_colab_link": true
    },
    "kernelspec": {
      "name": "python3",
      "display_name": "Python 3"
    },
    "language_info": {
      "name": "python"
    }
  },
  "cells": [
    {
      "cell_type": "markdown",
      "metadata": {
        "id": "view-in-github",
        "colab_type": "text"
      },
      "source": [
        "<a href=\"https://colab.research.google.com/github/Ramya1410/Python-Practice/blob/main/pattern_and_math_functions.ipynb\" target=\"_parent\"><img src=\"https://colab.research.google.com/assets/colab-badge.svg\" alt=\"Open In Colab\"/></a>"
      ]
    },
    {
      "cell_type": "code",
      "execution_count": null,
      "metadata": {
        "colab": {
          "base_uri": "https://localhost:8080/"
        },
        "id": "w8sQsrGu7RhL",
        "outputId": "21ee4261-7b05-4ac0-df96-2ce7561517b4"
      },
      "outputs": [
        {
          "output_type": "stream",
          "name": "stdout",
          "text": [
            "enter a number15\n",
            "***************\n",
            " **************\n",
            "  *************\n",
            "   ************\n",
            "    ***********\n",
            "     **********\n",
            "      *********\n",
            "       ********\n",
            "        *******\n",
            "         ******\n",
            "          *****\n",
            "           ****\n",
            "            ***\n",
            "             **\n",
            "              *\n"
          ]
        }
      ],
      "source": [
        "n = int(input('enter a number'))\n",
        "for i in range(n,0,-1):\n",
        "  print((n-i)*' '+'*'*i)\n",
        "  \n"
      ]
    },
    {
      "cell_type": "code",
      "source": [
        "n = int(input('enter number of rows'))\n",
        "a=[]\n",
        "for i in range(n):\n",
        "  a.append([])\n",
        "  a[i].append(1)\n",
        "  for j in range(1,i):\n",
        "    a[i].append(a[i-1][j-1]+a[i-1][j])\n",
        "  if(n!=0):\n",
        "    a[i].append(1)\n",
        "for i in range(n):\n",
        "    print(\"   \"*(n-i),end=\" \",sep=\" \")\n",
        "    for j in range(0,i+1):\n",
        "        print('{0:6}'.format(a[i][j]),end=\" \",sep=\" \")\n",
        "    print()\n"
      ],
      "metadata": {
        "colab": {
          "base_uri": "https://localhost:8080/"
        },
        "id": "FHNMH_n9-cQ8",
        "outputId": "18d49068-fcc5-4135-a57a-2a05e99be8b4"
      },
      "execution_count": null,
      "outputs": [
        {
          "output_type": "stream",
          "name": "stdout",
          "text": [
            "enter number of rows5\n",
            "                     1 \n",
            "                  1      1 \n",
            "               1      2      1 \n",
            "            1      3      3      1 \n",
            "         1      4      6      4      1 \n"
          ]
        }
      ]
    },
    {
      "cell_type": "code",
      "source": [
        "print(\"Equation : ax^2+bx+c\")\n",
        "a = int(input('enter a'))\n",
        "b = int(input('enter b'))\n",
        "c = int(input('enter c'))\n",
        "d1 = b**2-4*a*c\n",
        "d=d1**0.5\n",
        "if(d1<0):\n",
        "  print('roots are imaginary')\n",
        "else:\n",
        "  r1 = (-b+d)//2*a\n",
        "  r2 = (-b-d)//2*a\n",
        "  print(r1,r2,end=' ')\n"
      ],
      "metadata": {
        "colab": {
          "base_uri": "https://localhost:8080/"
        },
        "id": "VBdWVZl9FFPG",
        "outputId": "8b4ed149-49c0-40cd-ecf9-14c8e43c5d7a"
      },
      "execution_count": null,
      "outputs": [
        {
          "output_type": "stream",
          "name": "stdout",
          "text": [
            "Equation : ax^2+bx+c\n",
            "enter a1\n",
            "enter b5\n",
            "enter c10\n",
            "roots are imaginary\n"
          ]
        }
      ]
    },
    {
      "cell_type": "code",
      "source": [
        "b = int(input('enter base'))\n",
        "h = int(input('enter height'))\n",
        "area = 0.5*b*h\n",
        "print(area)"
      ],
      "metadata": {
        "colab": {
          "base_uri": "https://localhost:8080/"
        },
        "id": "xb8VwXvmGXVq",
        "outputId": "325a0769-812e-460b-a52f-7922663c468f"
      },
      "execution_count": null,
      "outputs": [
        {
          "output_type": "stream",
          "name": "stdout",
          "text": [
            "enter base6\n",
            "enter height10\n",
            "30.0\n"
          ]
        }
      ]
    },
    {
      "cell_type": "code",
      "source": [
        "import math\n",
        "a = int(input('enter side'))\n",
        "b = int(input('enter side'))\n",
        "c = int(input('enter side'))\n",
        "s = (a+b+c)/2\n",
        "area = math.sqrt((s*(s-a)*(s-b)*(s-c)))\n",
        "print(round(area,2))"
      ],
      "metadata": {
        "colab": {
          "base_uri": "https://localhost:8080/"
        },
        "id": "6k1Q89w1Xpni",
        "outputId": "68d0f9cf-3d4c-44d3-f710-b238a4eea6aa"
      },
      "execution_count": null,
      "outputs": [
        {
          "output_type": "stream",
          "name": "stdout",
          "text": [
            "enter side15\n",
            "enter side7\n",
            "enter side9\n",
            "20.69\n"
          ]
        }
      ]
    },
    {
      "cell_type": "code",
      "source": [
        "p = int(input('enter principle'))\n",
        "t = int(input('enter time period'))\n",
        "r = int(input('enter rate of interest'))\n",
        "si = (p*t*r)/100\n",
        "print(si)"
      ],
      "metadata": {
        "colab": {
          "base_uri": "https://localhost:8080/"
        },
        "id": "dfl7zW13G7qP",
        "outputId": "4668431d-2e47-4482-cbca-294daf392b47"
      },
      "execution_count": null,
      "outputs": [
        {
          "output_type": "stream",
          "name": "stdout",
          "text": [
            "enter principle200\n",
            "enter time period5\n",
            "enter rate of interest5\n",
            "50.0\n"
          ]
        }
      ]
    },
    {
      "cell_type": "code",
      "source": [
        "a = int(input('enter num'))\n",
        "b = int(input('enter num'))\n",
        "quo = a//b\n",
        "rem = a%b\n",
        "print(quo,rem)\n"
      ],
      "metadata": {
        "colab": {
          "base_uri": "https://localhost:8080/"
        },
        "id": "K7hRk4ptZbfI",
        "outputId": "30fbc2b9-d009-4040-bed0-4fae00491318"
      },
      "execution_count": null,
      "outputs": [
        {
          "output_type": "stream",
          "name": "stdout",
          "text": [
            "enter num5\n",
            "enter num2\n",
            "2 1\n"
          ]
        }
      ]
    },
    {
      "cell_type": "code",
      "source": [
        "ll = int(input('enter lower limit '))\n",
        "ul = int(input('enter upper limit '))\n",
        "for i in range(ll,ul+1):\n",
        "  for j in range(ll,ul+1):\n",
        "    for k in range(ll,ul+1):\n",
        "      if(i**2+j**2==k**2):\n",
        "          print(i,j,k,end='\\n')"
      ],
      "metadata": {
        "colab": {
          "base_uri": "https://localhost:8080/"
        },
        "id": "Qy-vPEn8Z0bc",
        "outputId": "81a4097c-f3c3-4172-a4b7-6198195aa88f"
      },
      "execution_count": null,
      "outputs": [
        {
          "output_type": "stream",
          "name": "stdout",
          "text": [
            "enter lower limit 1\n",
            "enter upper limit 20\n",
            "3 4 5\n",
            "4 3 5\n",
            "5 12 13\n",
            "6 8 10\n",
            "8 6 10\n",
            "8 15 17\n",
            "9 12 15\n",
            "12 5 13\n",
            "12 9 15\n",
            "12 16 20\n",
            "15 8 17\n",
            "16 12 20\n"
          ]
        }
      ]
    },
    {
      "cell_type": "code",
      "source": [
        "a = int(input('enetr a number'))\n",
        "b = int(input('enetr a number'))\n",
        "a=a-b\n",
        "b=b+a\n",
        "a=b-a\n",
        "print(a,b,sep='\\n')\n",
        "\n"
      ],
      "metadata": {
        "colab": {
          "base_uri": "https://localhost:8080/"
        },
        "id": "nDKPLa_CxKy8",
        "outputId": "641c219d-14a4-41d5-929c-4213e5621264"
      },
      "execution_count": null,
      "outputs": [
        {
          "output_type": "stream",
          "name": "stdout",
          "text": [
            "enetr a number14\n",
            "enetr a number125\n",
            "125\n",
            "14\n"
          ]
        }
      ]
    },
    {
      "cell_type": "code",
      "source": [
        "print(' polynomial : ax^3+bx^2+cx+d')\n",
        "a = int(input('enetr a '))\n",
        "b = int(input('enetr b'))\n",
        "c = int(input('enetr c'))\n",
        "d = int(input('enetr d'))\n",
        "x = int(input('enetr x'))\n",
        "res = a*(x**3)+b*(x**2)+c*x+d\n",
        "print(res)"
      ],
      "metadata": {
        "colab": {
          "base_uri": "https://localhost:8080/"
        },
        "id": "A0EkBHl2yfYY",
        "outputId": "a684d15d-f28d-48de-c10b-30dcfb3ac23c"
      },
      "execution_count": null,
      "outputs": [
        {
          "output_type": "stream",
          "name": "stdout",
          "text": [
            " polynomial : ax^3+bx^2+cx+d\n",
            "enetr a 3\n",
            "enetr b4\n",
            "enetr c5\n",
            "enetr d6\n",
            "enetr x2\n",
            "56\n"
          ]
        }
      ]
    },
    {
      "cell_type": "code",
      "source": [
        "n = int(input('enter a nummber'))\n",
        "print(n,end=' ')\n",
        "while(n>1):\n",
        "  if(n%2==0):\n",
        "    n=n//2\n",
        "    print(n,end=' ')\n",
        "  else:\n",
        "    n=3*n+1\n",
        "    print(n,end=' ')"
      ],
      "metadata": {
        "colab": {
          "base_uri": "https://localhost:8080/"
        },
        "id": "dsBGtu39hBEA",
        "outputId": "f7d394b8-3307-4439-c4e0-5f74648906bc"
      },
      "execution_count": null,
      "outputs": [
        {
          "output_type": "stream",
          "name": "stdout",
          "text": [
            "enter a nummber11\n",
            "11 34 17 52 26 13 40 20 10 5 16 8 4 2 1 "
          ]
        }
      ]
    },
    {
      "cell_type": "code",
      "source": [
        "n = int(input('enter a number'))\n",
        "for i in range(0,n):\n",
        "  for j in range(0,n):\n",
        "    if(i==j):\n",
        "      print(1,sep=' ',end=' ')\n",
        "    else:\n",
        "      print(0,sep=' ',end=' ')\n",
        "  print()\n"
      ],
      "metadata": {
        "colab": {
          "base_uri": "https://localhost:8080/"
        },
        "id": "jEyjwwwkiUwn",
        "outputId": "c634a970-46f7-4e85-8f80-0e01dc83e714"
      },
      "execution_count": null,
      "outputs": [
        {
          "output_type": "stream",
          "name": "stdout",
          "text": [
            "enter a number4\n",
            "1 0 0 0 \n",
            "0 1 0 0 \n",
            "0 0 1 0 \n",
            "0 0 0 1 \n"
          ]
        }
      ]
    },
    {
      "cell_type": "code",
      "source": [
        "n = int(input('enter a number'))\n",
        "ten = len(str(n))\n",
        "unit = n%10\n",
        "print(int(ten),unit,sep='',end='')"
      ],
      "metadata": {
        "colab": {
          "base_uri": "https://localhost:8080/"
        },
        "id": "Vvm7h5kZjfQK",
        "outputId": "4efe9a24-746b-4ae4-e212-72bd89d312c2"
      },
      "execution_count": null,
      "outputs": [
        {
          "output_type": "stream",
          "name": "stdout",
          "text": [
            "enter a number24678\n",
            "58"
          ]
        }
      ]
    }
  ]
}